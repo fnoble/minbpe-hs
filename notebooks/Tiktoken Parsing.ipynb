{
 "cells": [
  {
   "cell_type": "code",
   "execution_count": 24,
   "id": "40e46c36-c6b1-44b7-9886-318770c8626c",
   "metadata": {},
   "outputs": [],
   "source": [
    "import qualified Data.ByteString as B\n",
    "import qualified Data.Text as T\n",
    "import qualified Data.Text.Encoding as TE\n",
    "import Data.Word\n",
    "import Data.Map (Map, (!))\n",
    "import qualified Data.Map as Map\n",
    "import Data.List\n",
    "import Data.Ord\n",
    "import Data.ByteString.Base64 (decodeBase64)"
   ]
  },
  {
   "cell_type": "code",
   "execution_count": 25,
   "id": "b17ad2b2-dcdb-4143-8333-53cb0a0b3eb4",
   "metadata": {},
   "outputs": [],
   "source": [
    ":load src/MinBPE.hs"
   ]
  },
  {
   "cell_type": "code",
   "execution_count": 70,
   "id": "8e05cf13-7ec4-44a2-858f-dea4bd1be1cb",
   "metadata": {},
   "outputs": [],
   "source": [
    "import qualified Data.Attoparsec.ByteString.Char8 as Atto\n",
    "import Control.Applicative ((<|>))"
   ]
  },
  {
   "cell_type": "code",
   "execution_count": 27,
   "id": "c5ec2bbb-4a8e-4aea-9c0c-a0305121d00f",
   "metadata": {},
   "outputs": [],
   "source": [
    "base64 :: Atto.Parser B.ByteString\n",
    "base64 = do\n",
    "    raw <- Atto.takeWhile1 (\\c -> Atto.isAlpha_ascii c || Atto.isDigit c || Atto.inClass \"+/=\" c)\n",
    "    case decodeBase64 raw of\n",
    "        Left err -> fail $ \"Error decoding Base64: \" ++ show err\n",
    "        Right bs -> return bs"
   ]
  },
  {
   "cell_type": "code",
   "execution_count": 28,
   "id": "8dc69f21-e4bd-4c38-89d3-153c3ce8bf25",
   "metadata": {},
   "outputs": [],
   "source": [
    "parseEntry :: Atto.Parser (Token, B.ByteString)\n",
    "parseEntry = do\n",
    "    bs <- base64\n",
    "    Atto.space\n",
    "    t <- Atto.decimal\n",
    "    return (t, bs)"
   ]
  },
  {
   "cell_type": "code",
   "execution_count": 95,
   "id": "c8a6f377-1753-48bf-a54a-2e98c422cf59",
   "metadata": {},
   "outputs": [],
   "source": [
    "toVocab :: [(Token, B.ByteString)] -> Vocab\n",
    "toVocab = Map.fromList"
   ]
  },
  {
   "cell_type": "code",
   "execution_count": 96,
   "id": "9f890e06-b11c-44f7-a47e-fd402ebec970",
   "metadata": {},
   "outputs": [],
   "source": [
    "parseFile :: Atto.Parser Vocab\n",
    "parseFile = fmap toVocab $ Atto.many1 $ parseEntry <* Atto.endOfLine"
   ]
  },
  {
   "cell_type": "code",
   "execution_count": 103,
   "id": "92cc30da-2d5b-4c24-a972-cbb27392b6ca",
   "metadata": {},
   "outputs": [],
   "source": [
    "tik <- B.readFile \"example/cl100k_base.tiktoken\""
   ]
  },
  {
   "cell_type": "code",
   "execution_count": 97,
   "id": "b300c4f8-52b1-4e22-a1cb-da52f00437e1",
   "metadata": {},
   "outputs": [],
   "source": [
    "foo = Atto.parseOnly parseFile $ B.take 100 tik"
   ]
  },
  {
   "cell_type": "code",
   "execution_count": 98,
   "id": "27bd4634-ec65-47e3-887b-749cfcd3709a",
   "metadata": {},
   "outputs": [
    {
     "data": {
      "text/plain": [
       "Right (fromList [(0,\"!\"),(1,\"\\\"\"),(2,\"#\"),(3,\"$\"),(4,\"%\"),(5,\"&\"),(6,\"'\"),(7,\"(\"),(8,\")\"),(9,\"*\"),(10,\"+\"),(11,\",\"),(12,\"-\")])"
      ]
     },
     "metadata": {},
     "output_type": "display_data"
    }
   ],
   "source": [
    "foo"
   ]
  },
  {
   "cell_type": "code",
   "execution_count": 86,
   "id": "4bd1c72a-ceb3-4596-94af-95def02f6dcb",
   "metadata": {},
   "outputs": [
    {
     "data": {
      "text/html": [
       "<style>/* Styles used for the Hoogle display in the pager */\n",
       ".hoogle-doc {\n",
       "display: block;\n",
       "padding-bottom: 1.3em;\n",
       "padding-left: 0.4em;\n",
       "}\n",
       ".hoogle-code {\n",
       "display: block;\n",
       "font-family: monospace;\n",
       "white-space: pre;\n",
       "}\n",
       ".hoogle-text {\n",
       "display: block;\n",
       "}\n",
       ".hoogle-name {\n",
       "color: green;\n",
       "font-weight: bold;\n",
       "}\n",
       ".hoogle-head {\n",
       "font-weight: bold;\n",
       "}\n",
       ".hoogle-sub {\n",
       "display: block;\n",
       "margin-left: 0.4em;\n",
       "}\n",
       ".hoogle-package {\n",
       "font-weight: bold;\n",
       "font-style: italic;\n",
       "}\n",
       ".hoogle-module {\n",
       "font-weight: bold;\n",
       "}\n",
       ".hoogle-class {\n",
       "font-weight: bold;\n",
       "}\n",
       "\n",
       ".get-type {\n",
       "color: green;\n",
       "font-weight: bold;\n",
       "font-family: monospace;\n",
       "display: block;\n",
       "white-space: pre-wrap;\n",
       "}\n",
       ".show-type {\n",
       "color: green;\n",
       "font-weight: bold;\n",
       "font-family: monospace;\n",
       "margin-left: 1em;\n",
       "}\n",
       ".mono {\n",
       "font-family: monospace;\n",
       "display: block;\n",
       "}\n",
       ".err-msg {\n",
       "color: red;\n",
       "font-style: italic;\n",
       "font-family: monospace;\n",
       "white-space: pre;\n",
       "display: block;\n",
       "}\n",
       "#unshowable {\n",
       "color: red;\n",
       "font-weight: bold;\n",
       "}\n",
       ".err-msg.in.collapse {\n",
       "padding-top: 0.7em;\n",
       "}\n",
       "\n",
       ".highlight-code {\n",
       "white-space: pre;\n",
       "font-family: monospace;\n",
       "}\n",
       "\n",
       ".suggestion-warning { \n",
       "font-weight: bold;\n",
       "color: rgb(200, 130, 0);\n",
       "}\n",
       ".suggestion-error { \n",
       "font-weight: bold;\n",
       "color: red;\n",
       "}\n",
       ".suggestion-name {\n",
       "font-weight: bold;\n",
       "}\n",
       "\n",
       "</style><div class=\"suggestion-name\" style=\"clear:both;\">Use record patterns</div><div class=\"suggestion-row\" style=\"float: left;\"><div class=\"suggestion-warning\">Found:</div><div class=\"highlight-code\" id=\"haskell\">Atto.Fail _ _ _</div></div><div class=\"suggestion-row\" style=\"float: left;\"><div class=\"suggestion-warning\">Why Not:</div><div class=\"highlight-code\" id=\"haskell\">Atto.Fail {}</div></div>"
      ],
      "text/plain": [
       "Line 2: Use record patterns\n",
       "Found:\n",
       "Atto.Fail _ _ _\n",
       "Why not:\n",
       "Atto.Fail {}"
      ]
     },
     "metadata": {},
     "output_type": "display_data"
    },
    {
     "data": {
      "text/plain": [
       "\"partial\""
      ]
     },
     "metadata": {},
     "output_type": "display_data"
    }
   ],
   "source": [
    "case foo of\n",
    "    Atto.Fail _ _ _ -> print \"error\"\n",
    "    Atto.Partial _ -> print \"partial\"\n",
    "    Atto.Done _ r -> print \"done\""
   ]
  },
  {
   "cell_type": "code",
   "execution_count": 87,
   "id": "399abab1-b008-4e56-9472-9c6c9b9a2d80",
   "metadata": {},
   "outputs": [
    {
     "data": {
      "text/html": [
       "<style>/* Styles used for the Hoogle display in the pager */\n",
       ".hoogle-doc {\n",
       "display: block;\n",
       "padding-bottom: 1.3em;\n",
       "padding-left: 0.4em;\n",
       "}\n",
       ".hoogle-code {\n",
       "display: block;\n",
       "font-family: monospace;\n",
       "white-space: pre;\n",
       "}\n",
       ".hoogle-text {\n",
       "display: block;\n",
       "}\n",
       ".hoogle-name {\n",
       "color: green;\n",
       "font-weight: bold;\n",
       "}\n",
       ".hoogle-head {\n",
       "font-weight: bold;\n",
       "}\n",
       ".hoogle-sub {\n",
       "display: block;\n",
       "margin-left: 0.4em;\n",
       "}\n",
       ".hoogle-package {\n",
       "font-weight: bold;\n",
       "font-style: italic;\n",
       "}\n",
       ".hoogle-module {\n",
       "font-weight: bold;\n",
       "}\n",
       ".hoogle-class {\n",
       "font-weight: bold;\n",
       "}\n",
       "\n",
       ".get-type {\n",
       "color: green;\n",
       "font-weight: bold;\n",
       "font-family: monospace;\n",
       "display: block;\n",
       "white-space: pre-wrap;\n",
       "}\n",
       ".show-type {\n",
       "color: green;\n",
       "font-weight: bold;\n",
       "font-family: monospace;\n",
       "margin-left: 1em;\n",
       "}\n",
       ".mono {\n",
       "font-family: monospace;\n",
       "display: block;\n",
       "}\n",
       ".err-msg {\n",
       "color: red;\n",
       "font-style: italic;\n",
       "font-family: monospace;\n",
       "white-space: pre;\n",
       "display: block;\n",
       "}\n",
       "#unshowable {\n",
       "color: red;\n",
       "font-weight: bold;\n",
       "}\n",
       ".err-msg.in.collapse {\n",
       "padding-top: 0.7em;\n",
       "}\n",
       "\n",
       ".highlight-code {\n",
       "white-space: pre;\n",
       "font-family: monospace;\n",
       "}\n",
       "\n",
       ".suggestion-warning { \n",
       "font-weight: bold;\n",
       "color: rgb(200, 130, 0);\n",
       "}\n",
       ".suggestion-error { \n",
       "font-weight: bold;\n",
       "color: red;\n",
       "}\n",
       ".suggestion-name {\n",
       "font-weight: bold;\n",
       "}\n",
       "\n",
       "</style><span class='get-type'>B.readFile :: FilePath -> IO ByteString</span>"
      ],
      "text/plain": [
       "B.readFile :: FilePath -> IO ByteString"
      ]
     },
     "metadata": {},
     "output_type": "display_data"
    }
   ],
   "source": [
    ":t B.readFile"
   ]
  },
  {
   "cell_type": "code",
   "execution_count": 102,
   "id": "ccd930f6-a29c-460f-97aa-9fcf0df7e5bb",
   "metadata": {},
   "outputs": [
    {
     "data": {
      "text/plain": [
       "\"/Users/fnoble/projects/ML/minbpe-hs\""
      ]
     },
     "metadata": {},
     "output_type": "display_data"
    }
   ],
   "source": [
    "import System.Directory\n",
    "getCurrentDirectory"
   ]
  },
  {
   "cell_type": "code",
   "execution_count": null,
   "id": "c4a5cf3f-32b8-424a-9557-bd5bb55ecd7b",
   "metadata": {},
   "outputs": [],
   "source": []
  }
 ],
 "metadata": {
  "kernelspec": {
   "display_name": "Haskell",
   "language": "haskell",
   "name": "haskell"
  },
  "language_info": {
   "codemirror_mode": "ihaskell",
   "file_extension": ".hs",
   "mimetype": "text/x-haskell",
   "name": "haskell",
   "pygments_lexer": "Haskell",
   "version": "9.6.4"
  }
 },
 "nbformat": 4,
 "nbformat_minor": 5
}
